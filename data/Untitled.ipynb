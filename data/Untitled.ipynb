{
 "cells": [
  {
   "cell_type": "code",
   "execution_count": 1,
   "metadata": {},
   "outputs": [],
   "source": [
    "import yaml"
   ]
  },
  {
   "cell_type": "code",
   "execution_count": 5,
   "metadata": {},
   "outputs": [
    {
     "name": "stdout",
     "output_type": "stream",
     "text": [
      "{'model': {'encoder': {'model_dim': 512, 'ffn_dim': 2048, 'layers': 6, 'heads': 8, 'vocab_size': '???'}, 'decoder': {'model_dim': 512, 'ffn_dim': 2048, 'layers': 6, 'heads': 8, 'vocab_size': '???'}}, 'train': {'optim': 'adam', 'loss': 'rrn-t', 'device': 'cuda', 'lr': 0.0001, 'batch_size': 16, 'epochs': 50, 'save_epoch': 1}, 'feature': {'type': 'logmel', 'sample_rate': 16000, 'n_mels': 80, 'n_fft': 512, 'hop_length': 256}}\n"
     ]
    },
    {
     "name": "stderr",
     "output_type": "stream",
     "text": [
      "/usr/local/lib/python3.6/dist-packages/ipykernel_launcher.py:2: YAMLLoadWarning: calling yaml.load() without Loader=... is deprecated, as the default Loader is unsafe. Please read https://msg.pyyaml.org/load for full details.\n",
      "  \n"
     ]
    }
   ],
   "source": [
    "with open('../conf/ksponspeech.yaml', 'r') as f:\n",
    "    print(yaml.load(f))"
   ]
  },
  {
   "cell_type": "code",
   "execution_count": null,
   "metadata": {},
   "outputs": [],
   "source": []
  }
 ],
 "metadata": {
  "kernelspec": {
   "display_name": "Python 3",
   "language": "python",
   "name": "python3"
  },
  "language_info": {
   "codemirror_mode": {
    "name": "ipython",
    "version": 3
   },
   "file_extension": ".py",
   "mimetype": "text/x-python",
   "name": "python",
   "nbconvert_exporter": "python",
   "pygments_lexer": "ipython3",
   "version": "3.6.8"
  }
 },
 "nbformat": 4,
 "nbformat_minor": 2
}
