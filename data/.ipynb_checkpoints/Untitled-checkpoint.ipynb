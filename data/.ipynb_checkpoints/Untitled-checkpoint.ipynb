{
 "cells": [
  {
   "cell_type": "code",
   "execution_count": 9,
   "metadata": {},
   "outputs": [],
   "source": [
    "import yaml"
   ]
  },
  {
   "cell_type": "code",
   "execution_count": 10,
   "metadata": {},
   "outputs": [
    {
     "name": "stdout",
     "output_type": "stream",
     "text": [
      "{'model': {'encoder': {'model_dim': 512, 'ffn_dim': 2048, 'layers': 6, 'heads': 8, 'vocab_size': '???'}, 'decoder': {'model_dim': 512, 'ffn_dim': 2048, 'layers': 6, 'heads': 8, 'vocab_size': '???'}}, 'train': {'optim': 'adam', 'loss': 'rrn-t', 'device': 'cuda', 'lr': 0.0001, 'batch_size': 16, 'epochs': 50, 'save_epoch': 1}, 'feature': {'spec': {'type': 'logmel', 'sample_rate': 16000, 'n_mels': 80, 'n_fft': 512, 'hop_length': 256}, 'augment': {'spec_augment': True, 'time_shifting': False, 'noise_injecting': False}}}\n"
     ]
    }
   ],
   "source": [
    "with open('../config/ksponspeech.yaml', 'r') as f:\n",
    "    conf = yaml.safe_load(f)"
   ]
  },
  {
   "cell_type": "code",
   "execution_count": null,
   "metadata": {},
   "outputs": [],
   "source": []
  }
 ],
 "metadata": {
  "kernelspec": {
   "display_name": "Python 3",
   "language": "python",
   "name": "python3"
  },
  "language_info": {
   "codemirror_mode": {
    "name": "ipython",
    "version": 3
   },
   "file_extension": ".py",
   "mimetype": "text/x-python",
   "name": "python",
   "nbconvert_exporter": "python",
   "pygments_lexer": "ipython3",
   "version": "3.6.8"
  }
 },
 "nbformat": 4,
 "nbformat_minor": 2
}
